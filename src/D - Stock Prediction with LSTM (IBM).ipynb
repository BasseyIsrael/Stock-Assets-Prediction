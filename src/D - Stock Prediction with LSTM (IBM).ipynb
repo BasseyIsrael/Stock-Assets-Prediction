{
 "cells": [
  {
   "cell_type": "markdown",
   "metadata": {},
   "source": [
    "## **LSTM with Multiple Time steps of Close Price as a Time Series Sequence**\n",
    "\n",
    "FOllowing the performance of the model developed using LSTM, a new method is employed for training the data. The features extracted in the previous workbook did not work as expected because LSTM works best with long series time dependent data. Here, the focus is on the Close Price sequence of previoud days and the numbr of lagged days are tuned for prediction. With LSTM, a lookback of +30 days is considered to predict the price of the next day."
   ]
  },
  {
   "cell_type": "markdown",
   "metadata": {},
   "source": [
    "### Import the Libraries"
   ]
  },
  {
   "cell_type": "code",
   "execution_count": 2,
   "metadata": {},
   "outputs": [],
   "source": [
    "import pandas as pd\n",
    "import matplotlib.pyplot as plt\n",
    "from pylab import rcParams\n",
    "import numpy as np\n",
    "import seaborn as sns\n",
    "import os\n",
    "\n",
    "from sklearn.preprocessing import MinMaxScaler\n",
    "from keras.models import Sequential\n",
    "from keras.layers import Dense, Dropout, LSTM\n",
    "from sklearn.model_selection import cross_val_score, train_test_split\n",
    "from sklearn.model_selection import cross_validate,GridSearchCV\n",
    "from sklearn import metrics\n",
    "from sklearn.preprocessing import StandardScaler\n",
    "import matplotlib.pyplot as plt\n",
    "from matplotlib.colors import ListedColormap\n",
    "from mpl_toolkits.mplot3d import Axes3D\n",
    "\n",
    "import warnings\n",
    "warnings.filterwarnings('ignore')\n",
    "%matplotlib inline\n",
    "\n",
    "os.chdir(r'C:\\Users\\Israel\\Documents\\GitHub\\Stock-Assets-Prediction')\n"
   ]
  },
  {
   "cell_type": "code",
   "execution_count": 3,
   "metadata": {},
   "outputs": [
    {
     "data": {
      "text/html": [
       "<div>\n",
       "<style scoped>\n",
       "    .dataframe tbody tr th:only-of-type {\n",
       "        vertical-align: middle;\n",
       "    }\n",
       "\n",
       "    .dataframe tbody tr th {\n",
       "        vertical-align: top;\n",
       "    }\n",
       "\n",
       "    .dataframe thead th {\n",
       "        text-align: right;\n",
       "    }\n",
       "</style>\n",
       "<table border=\"1\" class=\"dataframe\">\n",
       "  <thead>\n",
       "    <tr style=\"text-align: right;\">\n",
       "      <th></th>\n",
       "      <th>Open</th>\n",
       "      <th>High</th>\n",
       "      <th>Low</th>\n",
       "      <th>QQQ_Close</th>\n",
       "      <th>SnP_Close</th>\n",
       "      <th>DJIA_Close</th>\n",
       "      <th>Close</th>\n",
       "      <th>Diff</th>\n",
       "      <th>High-low</th>\n",
       "    </tr>\n",
       "  </thead>\n",
       "  <tbody>\n",
       "    <tr>\n",
       "      <th>0</th>\n",
       "      <td>84.30</td>\n",
       "      <td>86.15</td>\n",
       "      <td>84.29</td>\n",
       "      <td>36.14</td>\n",
       "      <td>1114.02</td>\n",
       "      <td>9956.3203</td>\n",
       "      <td>85.92</td>\n",
       "      <td>1.62</td>\n",
       "      <td>1.86</td>\n",
       "    </tr>\n",
       "    <tr>\n",
       "      <th>1</th>\n",
       "      <td>88.20</td>\n",
       "      <td>89.73</td>\n",
       "      <td>88.00</td>\n",
       "      <td>35.88</td>\n",
       "      <td>1103.23</td>\n",
       "      <td>9897.6201</td>\n",
       "      <td>89.37</td>\n",
       "      <td>1.17</td>\n",
       "      <td>1.73</td>\n",
       "    </tr>\n",
       "    <tr>\n",
       "      <th>2</th>\n",
       "      <td>88.45</td>\n",
       "      <td>89.19</td>\n",
       "      <td>88.29</td>\n",
       "      <td>36.05</td>\n",
       "      <td>1103.66</td>\n",
       "      <td>9886.9297</td>\n",
       "      <td>88.82</td>\n",
       "      <td>0.37</td>\n",
       "      <td>0.90</td>\n",
       "    </tr>\n",
       "    <tr>\n",
       "      <th>3</th>\n",
       "      <td>88.40</td>\n",
       "      <td>88.76</td>\n",
       "      <td>87.66</td>\n",
       "      <td>36.60</td>\n",
       "      <td>1106.49</td>\n",
       "      <td>9865.7598</td>\n",
       "      <td>88.10</td>\n",
       "      <td>-0.30</td>\n",
       "      <td>1.10</td>\n",
       "    </tr>\n",
       "    <tr>\n",
       "      <th>4</th>\n",
       "      <td>88.22</td>\n",
       "      <td>88.45</td>\n",
       "      <td>87.29</td>\n",
       "      <td>35.80</td>\n",
       "      <td>1095.74</td>\n",
       "      <td>9757.8096</td>\n",
       "      <td>87.39</td>\n",
       "      <td>-0.83</td>\n",
       "      <td>1.16</td>\n",
       "    </tr>\n",
       "  </tbody>\n",
       "</table>\n",
       "</div>"
      ],
      "text/plain": [
       "    Open   High    Low  QQQ_Close  SnP_Close  DJIA_Close  Close  Diff  \\\n",
       "0  84.30  86.15  84.29      36.14    1114.02   9956.3203  85.92  1.62   \n",
       "1  88.20  89.73  88.00      35.88    1103.23   9897.6201  89.37  1.17   \n",
       "2  88.45  89.19  88.29      36.05    1103.66   9886.9297  88.82  0.37   \n",
       "3  88.40  88.76  87.66      36.60    1106.49   9865.7598  88.10 -0.30   \n",
       "4  88.22  88.45  87.29      35.80    1095.74   9757.8096  87.39 -0.83   \n",
       "\n",
       "   High-low  \n",
       "0      1.86  \n",
       "1      1.73  \n",
       "2      0.90  \n",
       "3      1.10  \n",
       "4      1.16  "
      ]
     },
     "execution_count": 3,
     "metadata": {},
     "output_type": "execute_result"
    }
   ],
   "source": [
    "Stock = pd.read_csv('IBM.csv')\n",
    "\n",
    "#best features\n",
    "features_selected = ['Open','High', 'Low','QQQ_Close', 'SnP_Close', 'DJIA_Close', 'Close(t)']\n",
    "df_Stock = Stock[features_selected]\n",
    "df_Stock = df_Stock.iloc[:-100, :]\n",
    "df_Stock = df_Stock.rename(columns={'Close(t)':'Close'})\n",
    "\n",
    "df_Stock['Diff'] = df_Stock['Close'] - df_Stock['Open']\n",
    "df_Stock['High-low'] = df_Stock['High'] - df_Stock['Low']\n",
    "\n",
    "df_Stock.head()"
   ]
  },
  {
   "cell_type": "code",
   "execution_count": 4,
   "metadata": {},
   "outputs": [
    {
     "data": {
      "image/png": "[encoded data removed]",
      "text/plain": [
       "<Figure size 432x288 with 1 Axes>"
      ]
     },
     "metadata": {
      "needs_background": "light"
     },
     "output_type": "display_data"
    }
   ],
   "source": [
    "from matplotlib import pyplot as plt\n",
    "plt.figure()\n",
    "plt.plot(df_Stock[\"High\"])\n",
    "plt.plot(df_Stock[\"Low\"])\n",
    "plt.plot(df_Stock[\"Close\"])\n",
    "plt.title('IBM stock price history')\n",
    "plt.ylabel('Price (USD)')\n",
    "plt.xlabel('Days')\n",
    "plt.legend(['Open','High','Low','Close'], loc='upper left')\n",
    "plt.show()"
   ]
  },
  {
   "cell_type": "markdown",
   "metadata": {},
   "source": [
    "### Create Lagged Features for getting Previous day prices for a lookback of 30 days"
   ]
  },
  {
   "cell_type": "code",
   "execution_count": 5,
   "metadata": {},
   "outputs": [],
   "source": [
    "def prepare_lagged_features(df_Stock, lag_stock, lag_index):\n",
    "\n",
    "        print('Preparing Lagged Features for Stock, Index Funds.....')\n",
    "        lags = range(1, lag_stock+1)\n",
    "        lag_cols= ['Close']\n",
    "        df_Stock=df_Stock.assign(**{\n",
    "            '{}(t-{})'.format(col, l): df_Stock[col].shift(l)\n",
    "            for l in lags\n",
    "            for col in lag_cols\n",
    "        })\n",
    "\n",
    "       \n",
    "        lags = range(1, lag_index+1)\n",
    "        lag_cols= ['QQQ_Close','SnP_Close','DJIA_Close']\n",
    "        df_Stock= df_Stock.assign(**{\n",
    "            '{}(t-{})'.format(col, l): df_Stock[col].shift(l)\n",
    "            for l in lags\n",
    "            for col in lag_cols\n",
    "        })\n",
    "\n",
    "        df_Stock = df_Stock.drop(columns=lag_cols)\n",
    "\n",
    "\n",
    "        remove_lags_na = max(lag_stock, lag_index) + 1\n",
    "        print('Removing NAN rows - ', str(remove_lags_na))\n",
    "        df_Stock = df_Stock.iloc[remove_lags_na:,]\n",
    "        return df_Stock\n"
   ]
  },
  {
   "cell_type": "code",
   "execution_count": 6,
   "metadata": {},
   "outputs": [
    {
     "name": "stdout",
     "output_type": "stream",
     "text": [
      "Preparing Lagged Features for Stock, Index Funds.....\n",
      "Removing NAN rows -  21\n"
     ]
    },
    {
     "data": {
      "text/html": [
       "<div>\n",
       "<style scoped>\n",
       "    .dataframe tbody tr th:only-of-type {\n",
       "        vertical-align: middle;\n",
       "    }\n",
       "\n",
       "    .dataframe tbody tr th {\n",
       "        vertical-align: top;\n",
       "    }\n",
       "\n",
       "    .dataframe thead th {\n",
       "        text-align: right;\n",
       "    }\n",
       "</style>\n",
       "<table border=\"1\" class=\"dataframe\">\n",
       "  <thead>\n",
       "    <tr style=\"text-align: right;\">\n",
       "      <th></th>\n",
       "      <th>Open</th>\n",
       "      <th>High</th>\n",
       "      <th>Low</th>\n",
       "      <th>Close</th>\n",
       "      <th>Diff</th>\n",
       "      <th>High-low</th>\n",
       "      <th>Close(t-1)</th>\n",
       "      <th>Close(t-2)</th>\n",
       "      <th>Close(t-3)</th>\n",
       "      <th>Close(t-4)</th>\n",
       "      <th>...</th>\n",
       "      <th>DJIA_Close(t-2)</th>\n",
       "      <th>QQQ_Close(t-3)</th>\n",
       "      <th>SnP_Close(t-3)</th>\n",
       "      <th>DJIA_Close(t-3)</th>\n",
       "      <th>QQQ_Close(t-4)</th>\n",
       "      <th>SnP_Close(t-4)</th>\n",
       "      <th>DJIA_Close(t-4)</th>\n",
       "      <th>QQQ_Close(t-5)</th>\n",
       "      <th>SnP_Close(t-5)</th>\n",
       "      <th>DJIA_Close(t-5)</th>\n",
       "    </tr>\n",
       "  </thead>\n",
       "  <tbody>\n",
       "    <tr>\n",
       "      <th>21</th>\n",
       "      <td>95.25</td>\n",
       "      <td>95.50</td>\n",
       "      <td>94.65</td>\n",
       "      <td>94.89</td>\n",
       "      <td>-0.36</td>\n",
       "      <td>0.85</td>\n",
       "      <td>95.92</td>\n",
       "      <td>95.32</td>\n",
       "      <td>94.79</td>\n",
       "      <td>93.61</td>\n",
       "      <td>...</td>\n",
       "      <td>10539.0098</td>\n",
       "      <td>38.29</td>\n",
       "      <td>1173.4800</td>\n",
       "      <td>10469.8398</td>\n",
       "      <td>37.79</td>\n",
       "      <td>1162.9100</td>\n",
       "      <td>10385.4805</td>\n",
       "      <td>37.92</td>\n",
       "      <td>1164.0800</td>\n",
       "      <td>10386.3701</td>\n",
       "    </tr>\n",
       "    <tr>\n",
       "      <th>22</th>\n",
       "      <td>95.30</td>\n",
       "      <td>96.63</td>\n",
       "      <td>95.30</td>\n",
       "      <td>95.46</td>\n",
       "      <td>0.16</td>\n",
       "      <td>1.33</td>\n",
       "      <td>94.89</td>\n",
       "      <td>95.92</td>\n",
       "      <td>95.32</td>\n",
       "      <td>94.79</td>\n",
       "      <td>...</td>\n",
       "      <td>10550.2402</td>\n",
       "      <td>38.66</td>\n",
       "      <td>1184.1700</td>\n",
       "      <td>10539.0098</td>\n",
       "      <td>38.29</td>\n",
       "      <td>1173.4800</td>\n",
       "      <td>10469.8398</td>\n",
       "      <td>37.79</td>\n",
       "      <td>1162.9100</td>\n",
       "      <td>10385.4805</td>\n",
       "    </tr>\n",
       "    <tr>\n",
       "      <th>23</th>\n",
       "      <td>95.36</td>\n",
       "      <td>95.70</td>\n",
       "      <td>95.03</td>\n",
       "      <td>95.10</td>\n",
       "      <td>-0.26</td>\n",
       "      <td>0.67</td>\n",
       "      <td>95.46</td>\n",
       "      <td>94.89</td>\n",
       "      <td>95.92</td>\n",
       "      <td>95.32</td>\n",
       "      <td>...</td>\n",
       "      <td>10487.6504</td>\n",
       "      <td>38.83</td>\n",
       "      <td>1183.8101</td>\n",
       "      <td>10550.2402</td>\n",
       "      <td>38.66</td>\n",
       "      <td>1184.1700</td>\n",
       "      <td>10539.0098</td>\n",
       "      <td>38.29</td>\n",
       "      <td>1173.4800</td>\n",
       "      <td>10469.8398</td>\n",
       "    </tr>\n",
       "    <tr>\n",
       "      <th>24</th>\n",
       "      <td>94.95</td>\n",
       "      <td>95.16</td>\n",
       "      <td>94.25</td>\n",
       "      <td>94.45</td>\n",
       "      <td>-0.50</td>\n",
       "      <td>0.91</td>\n",
       "      <td>95.10</td>\n",
       "      <td>95.46</td>\n",
       "      <td>94.89</td>\n",
       "      <td>95.92</td>\n",
       "      <td>...</td>\n",
       "      <td>10549.5703</td>\n",
       "      <td>38.59</td>\n",
       "      <td>1175.4301</td>\n",
       "      <td>10487.6504</td>\n",
       "      <td>38.83</td>\n",
       "      <td>1183.8101</td>\n",
       "      <td>10550.2402</td>\n",
       "      <td>38.66</td>\n",
       "      <td>1184.1700</td>\n",
       "      <td>10539.0098</td>\n",
       "    </tr>\n",
       "    <tr>\n",
       "      <th>25</th>\n",
       "      <td>94.30</td>\n",
       "      <td>95.40</td>\n",
       "      <td>94.16</td>\n",
       "      <td>95.11</td>\n",
       "      <td>0.81</td>\n",
       "      <td>1.24</td>\n",
       "      <td>94.45</td>\n",
       "      <td>95.10</td>\n",
       "      <td>95.46</td>\n",
       "      <td>94.89</td>\n",
       "      <td>...</td>\n",
       "      <td>10572.5498</td>\n",
       "      <td>39.11</td>\n",
       "      <td>1181.9399</td>\n",
       "      <td>10549.5703</td>\n",
       "      <td>38.59</td>\n",
       "      <td>1175.4301</td>\n",
       "      <td>10487.6504</td>\n",
       "      <td>38.83</td>\n",
       "      <td>1183.8101</td>\n",
       "      <td>10550.2402</td>\n",
       "    </tr>\n",
       "  </tbody>\n",
       "</table>\n",
       "<p>5 rows × 41 columns</p>\n",
       "</div>"
      ],
      "text/plain": [
       "     Open   High    Low  Close  Diff  High-low  Close(t-1)  Close(t-2)  \\\n",
       "21  95.25  95.50  94.65  94.89 -0.36      0.85       95.92       95.32   \n",
       "22  95.30  96.63  95.30  95.46  0.16      1.33       94.89       95.92   \n",
       "23  95.36  95.70  95.03  95.10 -0.26      0.67       95.46       94.89   \n",
       "24  94.95  95.16  94.25  94.45 -0.50      0.91       95.10       95.46   \n",
       "25  94.30  95.40  94.16  95.11  0.81      1.24       94.45       95.10   \n",
       "\n",
       "    Close(t-3)  Close(t-4)  ...  DJIA_Close(t-2)  QQQ_Close(t-3)  \\\n",
       "21       94.79       93.61  ...       10539.0098           38.29   \n",
       "22       95.32       94.79  ...       10550.2402           38.66   \n",
       "23       95.92       95.32  ...       10487.6504           38.83   \n",
       "24       94.89       95.92  ...       10549.5703           38.59   \n",
       "25       95.46       94.89  ...       10572.5498           39.11   \n",
       "\n",
       "    SnP_Close(t-3)  DJIA_Close(t-3)  QQQ_Close(t-4)  SnP_Close(t-4)  \\\n",
       "21       1173.4800       10469.8398           37.79       1162.9100   \n",
       "22       1184.1700       10539.0098           38.29       1173.4800   \n",
       "23       1183.8101       10550.2402           38.66       1184.1700   \n",
       "24       1175.4301       10487.6504           38.83       1183.8101   \n",
       "25       1181.9399       10549.5703           38.59       1175.4301   \n",
       "\n",
       "    DJIA_Close(t-4)  QQQ_Close(t-5)  SnP_Close(t-5)  DJIA_Close(t-5)  \n",
       "21       10385.4805           37.92       1164.0800       10386.3701  \n",
       "22       10469.8398           37.79       1162.9100       10385.4805  \n",
       "23       10539.0098           38.29       1173.4800       10469.8398  \n",
       "24       10550.2402           38.66       1184.1700       10539.0098  \n",
       "25       10487.6504           38.83       1183.8101       10550.2402  \n",
       "\n",
       "[5 rows x 41 columns]"
      ]
     },
     "execution_count": 6,
     "metadata": {},
     "output_type": "execute_result"
    }
   ],
   "source": [
    "df_Stock = prepare_lagged_features(df_Stock, lag_stock = 20, lag_index = 5)\n",
    "df_Stock.head()"
   ]
  },
  {
   "cell_type": "code",
   "execution_count": 7,
   "metadata": {},
   "outputs": [],
   "source": [
    "df_Stock = df_Stock.drop(columns=['Open', 'High', 'Low'])"
   ]
  },
  {
   "cell_type": "code",
   "execution_count": 8,
   "metadata": {},
   "outputs": [
    {
     "data": {
      "text/plain": [
       "(421, 38)"
      ]
     },
     "execution_count": 8,
     "metadata": {},
     "output_type": "execute_result"
    }
   ],
   "source": [
    "df_Stock= df_Stock.iloc[31:452,]\n",
    "df_Stock.shape"
   ]
  },
  {
   "cell_type": "code",
   "execution_count": 9,
   "metadata": {},
   "outputs": [],
   "source": [
    "train=df_Stock.iloc[:340,]\n",
    "test=df_Stock.iloc[340:,]"
   ]
  },
  {
   "cell_type": "code",
   "execution_count": 10,
   "metadata": {},
   "outputs": [
    {
     "data": {
      "text/plain": [
       "Index(['Close', 'Diff', 'High-low', 'Close(t-1)', 'Close(t-2)', 'Close(t-3)',\n",
       "       'Close(t-4)', 'Close(t-5)', 'Close(t-6)', 'Close(t-7)', 'Close(t-8)',\n",
       "       'Close(t-9)', 'Close(t-10)', 'Close(t-11)', 'Close(t-12)',\n",
       "       'Close(t-13)', 'Close(t-14)', 'Close(t-15)', 'Close(t-16)',\n",
       "       'Close(t-17)', 'Close(t-18)', 'Close(t-19)', 'Close(t-20)',\n",
       "       'QQQ_Close(t-1)', 'SnP_Close(t-1)', 'DJIA_Close(t-1)', 'QQQ_Close(t-2)',\n",
       "       'SnP_Close(t-2)', 'DJIA_Close(t-2)', 'QQQ_Close(t-3)', 'SnP_Close(t-3)',\n",
       "       'DJIA_Close(t-3)', 'QQQ_Close(t-4)', 'SnP_Close(t-4)',\n",
       "       'DJIA_Close(t-4)', 'QQQ_Close(t-5)', 'SnP_Close(t-5)',\n",
       "       'DJIA_Close(t-5)'],\n",
       "      dtype='object')"
      ]
     },
     "execution_count": 10,
     "metadata": {},
     "output_type": "execute_result"
    }
   ],
   "source": [
    "train.columns"
   ]
  },
  {
   "cell_type": "code",
   "execution_count": 11,
   "metadata": {},
   "outputs": [],
   "source": [
    "Y_train= train[['Close']]\n",
    "X_train=train[['Diff', 'High-low', 'Close(t-1)', 'Close(t-2)', 'Close(t-3)',\n",
    "       'Close(t-4)', 'Close(t-5)', 'Close(t-6)', 'Close(t-7)', 'Close(t-8)',\n",
    "       'Close(t-9)', 'Close(t-10)', 'Close(t-11)', 'Close(t-12)',\n",
    "       'Close(t-13)', 'Close(t-14)', 'Close(t-15)', 'Close(t-16)',\n",
    "       'Close(t-17)', 'Close(t-18)', 'Close(t-19)', 'Close(t-20)',\n",
    "       'QQQ_Close(t-1)', 'SnP_Close(t-1)', 'DJIA_Close(t-1)', 'QQQ_Close(t-2)',\n",
    "       'SnP_Close(t-2)', 'DJIA_Close(t-2)', 'QQQ_Close(t-3)', 'SnP_Close(t-3)',\n",
    "       'DJIA_Close(t-3)', 'QQQ_Close(t-4)', 'SnP_Close(t-4)',\n",
    "       'DJIA_Close(t-4)', 'QQQ_Close(t-5)', 'SnP_Close(t-5)',\n",
    "       'DJIA_Close(t-5)']]\n",
    "\n",
    "\n",
    "\n",
    "Y_test= test[['Close']]\n",
    "X_test= test[['Diff', 'High-low', 'Close(t-1)', 'Close(t-2)', 'Close(t-3)',\n",
    "       'Close(t-4)', 'Close(t-5)', 'Close(t-6)', 'Close(t-7)', 'Close(t-8)',\n",
    "       'Close(t-9)', 'Close(t-10)', 'Close(t-11)', 'Close(t-12)',\n",
    "       'Close(t-13)', 'Close(t-14)', 'Close(t-15)', 'Close(t-16)',\n",
    "       'Close(t-17)', 'Close(t-18)', 'Close(t-19)', 'Close(t-20)',\n",
    "       'QQQ_Close(t-1)', 'SnP_Close(t-1)', 'DJIA_Close(t-1)', 'QQQ_Close(t-2)',\n",
    "       'SnP_Close(t-2)', 'DJIA_Close(t-2)', 'QQQ_Close(t-3)', 'SnP_Close(t-3)',\n",
    "       'DJIA_Close(t-3)', 'QQQ_Close(t-4)', 'SnP_Close(t-4)',\n",
    "       'DJIA_Close(t-4)', 'QQQ_Close(t-5)', 'SnP_Close(t-5)',\n",
    "       'DJIA_Close(t-5)']]"
   ]
  },
  {
   "cell_type": "markdown",
   "metadata": {},
   "source": [
    "### Scale features for LSTM Training"
   ]
  },
  {
   "cell_type": "code",
   "execution_count": 12,
   "metadata": {},
   "outputs": [],
   "source": [
    "scaler = MinMaxScaler(feature_range=(0, 1))\n",
    "scaled_data = scaler.fit_transform(Y_train)"
   ]
  },
  {
   "cell_type": "code",
   "execution_count": 13,
   "metadata": {},
   "outputs": [],
   "source": [
    "x_train, y_train = [], []\n",
    "for i in range(60,len(Y_train)):\n",
    "    x_train.append(scaled_data[i-60:i,0])\n",
    "    y_train.append(scaled_data[i,0])\n",
    "x_train, y_train = np.array(x_train), np.array(y_train)\n",
    "x_train = np.reshape(x_train, (x_train.shape[0],x_train.shape[1],1))"
   ]
  },
  {
   "cell_type": "markdown",
   "metadata": {},
   "source": [
    "### Create and fit the LSTM network"
   ]
  },
  {
   "cell_type": "code",
   "execution_count": 14,
   "metadata": {},
   "outputs": [
    {
     "name": "stdout",
     "output_type": "stream",
     "text": [
      "_________________________________________________________________\n",
      "Layer (type)                 Output Shape              Param #   \n",
      "=================================================================\n",
      "lstm_1 (LSTM)                (None, 60, 50)            10400     \n",
      "_________________________________________________________________\n",
      "lstm_2 (LSTM)                (None, 50)                20200     \n",
      "_________________________________________________________________\n",
      "dense_1 (Dense)              (None, 1)                 51        \n",
      "=================================================================\n",
      "Total params: 30,651\n",
      "Trainable params: 30,651\n",
      "Non-trainable params: 0\n",
      "_________________________________________________________________\n"
     ]
    }
   ],
   "source": [
    "lstm = Sequential()\n",
    "lstm.add(LSTM(units=50, return_sequences=True, input_shape=(x_train.shape[1],1)))\n",
    "lstm.add(LSTM(units=50))\n",
    "lstm.add(Dense(1))\n",
    "\n",
    "lstm.compile(loss='mean_squared_error', optimizer='adam')\n",
    "lstm.summary()\n"
   ]
  },
  {
   "cell_type": "code",
   "execution_count": 15,
   "metadata": {},
   "outputs": [
    {
     "name": "stdout",
     "output_type": "stream",
     "text": [
      "Epoch 1/25\n",
      " - 4s - loss: 0.0162\n",
      "Epoch 2/25\n",
      " - 3s - loss: 0.0062\n",
      "Epoch 3/25\n",
      " - 3s - loss: 0.0048\n",
      "Epoch 4/25\n",
      " - 3s - loss: 0.0043\n",
      "Epoch 5/25\n",
      " - 3s - loss: 0.0036\n",
      "Epoch 6/25\n",
      " - 4s - loss: 0.0033\n",
      "Epoch 7/25\n",
      " - 4s - loss: 0.0030\n",
      "Epoch 8/25\n",
      " - 4s - loss: 0.0028\n",
      "Epoch 9/25\n",
      " - 4s - loss: 0.0023\n",
      "Epoch 10/25\n",
      " - 4s - loss: 0.0023\n",
      "Epoch 11/25\n",
      " - 5s - loss: 0.0023\n",
      "Epoch 12/25\n",
      " - 4s - loss: 0.0021\n",
      "Epoch 13/25\n",
      " - 4s - loss: 0.0019\n",
      "Epoch 14/25\n",
      " - 4s - loss: 0.0019\n",
      "Epoch 15/25\n",
      " - 4s - loss: 0.0017\n",
      "Epoch 16/25\n",
      " - 4s - loss: 0.0019\n",
      "Epoch 17/25\n",
      " - 4s - loss: 0.0017\n",
      "Epoch 18/25\n",
      " - 4s - loss: 0.0016\n",
      "Epoch 19/25\n",
      " - 4s - loss: 0.0015\n",
      "Epoch 20/25\n",
      " - 4s - loss: 0.0015\n",
      "Epoch 21/25\n",
      " - 4s - loss: 0.0016\n",
      "Epoch 22/25\n",
      " - 4s - loss: 0.0015\n",
      "Epoch 23/25\n",
      " - 4s - loss: 0.0016\n",
      "Epoch 24/25\n",
      " - 4s - loss: 0.0014\n",
      "Epoch 25/25\n",
      " - 4s - loss: 0.0014\n"
     ]
    }
   ],
   "source": [
    "history_lstm = lstm.fit(x_train, y_train, epochs=25, batch_size=5, verbose=2)"
   ]
  },
  {
   "cell_type": "code",
   "execution_count": 16,
   "metadata": {},
   "outputs": [
    {
     "data": {
      "text/plain": [
       "dict_keys(['loss'])"
      ]
     },
     "execution_count": 16,
     "metadata": {},
     "output_type": "execute_result"
    }
   ],
   "source": [
    "history_lstm.history.keys()"
   ]
  },
  {
   "cell_type": "code",
   "execution_count": 17,
   "metadata": {},
   "outputs": [
    {
     "data": {
      "image/png": "[encoded data removed]",
      "text/plain": [
       "<Figure size 432x288 with 1 Axes>"
      ]
     },
     "metadata": {
      "needs_background": "light"
     },
     "output_type": "display_data"
    }
   ],
   "source": [
    "plt.plot(history_lstm.history['loss'], label='train')\n",
    "#plt.plot(history_lstm.history['val_loss'], label='test')\n",
    "plt.legend()\n",
    "plt.show()"
   ]
  },
  {
   "cell_type": "code",
   "execution_count": 18,
   "metadata": {},
   "outputs": [],
   "source": [
    "new_df_Stock = df_Stock['Close']"
   ]
  },
  {
   "cell_type": "code",
   "execution_count": 19,
   "metadata": {},
   "outputs": [],
   "source": [
    "#predicting 246 values, using past 60 from the train data\n",
    "inputs = new_df_Stock[len(new_df_Stock) - len(Y_test) - 60:].values\n",
    "inputs = inputs.reshape(-1,1)\n",
    "inputs  = scaler.transform(inputs)"
   ]
  },
  {
   "cell_type": "code",
   "execution_count": 20,
   "metadata": {},
   "outputs": [],
   "source": [
    "X_test = []\n",
    "for i in range(60,inputs.shape[0]):\n",
    "    X_test.append(inputs[i-60:i,0])\n",
    "X_test = np.array(X_test)\n",
    "\n",
    "X_test = np.reshape(X_test, (X_test.shape[0],X_test.shape[1],1))\n",
    "closing_price = lstm.predict(X_test)\n",
    "closing_price = scaler.inverse_transform(closing_price)"
   ]
  },
  {
   "cell_type": "code",
   "execution_count": 21,
   "metadata": {},
   "outputs": [
    {
     "data": {
      "text/plain": [
       "Close    0.836111\n",
       "dtype: float64"
      ]
     },
     "execution_count": 21,
     "metadata": {},
     "output_type": "execute_result"
    }
   ],
   "source": [
    "rms=np.sqrt(np.mean(np.power((Y_test-closing_price),2)))\n",
    "rms"
   ]
  },
  {
   "cell_type": "code",
   "execution_count": 25,
   "metadata": {},
   "outputs": [
    {
     "data": {
      "text/plain": [
       "array([[82.74188 ],\n",
       "       [83.02702 ],\n",
       "       [83.02269 ],\n",
       "       [82.69404 ],\n",
       "       [82.37769 ],\n",
       "       [82.470726],\n",
       "       [82.259544],\n",
       "       [81.61205 ],\n",
       "       [80.851715],\n",
       "       [80.25174 ],\n",
       "       [79.8861  ],\n",
       "       [79.70909 ],\n",
       "       [79.68618 ],\n",
       "       [79.91817 ],\n",
       "       [80.423744],\n",
       "       [80.513824],\n",
       "       [80.31498 ],\n",
       "       [80.46827 ],\n",
       "       [80.085754],\n",
       "       [79.501495],\n",
       "       [79.429955],\n",
       "       [79.26089 ],\n",
       "       [78.22518 ],\n",
       "       [77.858864],\n",
       "       [77.4393  ],\n",
       "       [77.18827 ],\n",
       "       [77.43238 ],\n",
       "       [78.07716 ],\n",
       "       [78.327614],\n",
       "       [78.24023 ],\n",
       "       [78.2041  ],\n",
       "       [78.30274 ],\n",
       "       [77.92569 ],\n",
       "       [77.53226 ],\n",
       "       [77.31607 ],\n",
       "       [77.0405  ],\n",
       "       [76.85173 ],\n",
       "       [77.18069 ],\n",
       "       [77.23054 ],\n",
       "       [77.66385 ],\n",
       "       [77.9276  ],\n",
       "       [78.15879 ],\n",
       "       [77.59927 ],\n",
       "       [77.14546 ],\n",
       "       [76.82552 ],\n",
       "       [76.30773 ],\n",
       "       [75.51691 ],\n",
       "       [74.77407 ],\n",
       "       [74.4209  ],\n",
       "       [74.52535 ],\n",
       "       [75.34949 ],\n",
       "       [75.863976],\n",
       "       [75.86174 ],\n",
       "       [76.086586],\n",
       "       [76.22167 ],\n",
       "       [76.23284 ],\n",
       "       [76.30098 ],\n",
       "       [76.643654],\n",
       "       [77.093925],\n",
       "       [76.909035],\n",
       "       [76.68375 ],\n",
       "       [76.53878 ],\n",
       "       [76.325775],\n",
       "       [76.05225 ],\n",
       "       [75.822716],\n",
       "       [75.73935 ],\n",
       "       [75.874146],\n",
       "       [75.936806],\n",
       "       [76.39878 ],\n",
       "       [76.94256 ],\n",
       "       [78.06691 ],\n",
       "       [79.031746],\n",
       "       [79.76785 ],\n",
       "       [79.83283 ],\n",
       "       [79.48749 ],\n",
       "       [79.01482 ],\n",
       "       [79.000824],\n",
       "       [79.35012 ],\n",
       "       [79.875824],\n",
       "       [80.74459 ],\n",
       "       [81.2761  ]], dtype=float32)"
      ]
     },
     "execution_count": 25,
     "metadata": {},
     "output_type": "execute_result"
    }
   ],
   "source": [
    "closing_price"
   ]
  },
  {
   "cell_type": "code",
   "execution_count": 26,
   "metadata": {},
   "outputs": [
    {
     "data": {
      "text/plain": [
       "(81, 1)"
      ]
     },
     "execution_count": 26,
     "metadata": {},
     "output_type": "execute_result"
    }
   ],
   "source": [
    "closing_price.shape"
   ]
  },
  {
   "cell_type": "code",
   "execution_count": 28,
   "metadata": {},
   "outputs": [
    {
     "data": {
      "text/html": [
       "<div>\n",
       "<style scoped>\n",
       "    .dataframe tbody tr th:only-of-type {\n",
       "        vertical-align: middle;\n",
       "    }\n",
       "\n",
       "    .dataframe tbody tr th {\n",
       "        vertical-align: top;\n",
       "    }\n",
       "\n",
       "    .dataframe thead th {\n",
       "        text-align: right;\n",
       "    }\n",
       "</style>\n",
       "<table border=\"1\" class=\"dataframe\">\n",
       "  <thead>\n",
       "    <tr style=\"text-align: right;\">\n",
       "      <th></th>\n",
       "      <th>Close</th>\n",
       "      <th>predict</th>\n",
       "    </tr>\n",
       "  </thead>\n",
       "  <tbody>\n",
       "    <tr>\n",
       "      <th>392</th>\n",
       "      <td>83.23</td>\n",
       "      <td>82.741882</td>\n",
       "    </tr>\n",
       "    <tr>\n",
       "      <th>393</th>\n",
       "      <td>82.90</td>\n",
       "      <td>83.027023</td>\n",
       "    </tr>\n",
       "    <tr>\n",
       "      <th>394</th>\n",
       "      <td>82.46</td>\n",
       "      <td>83.022690</td>\n",
       "    </tr>\n",
       "    <tr>\n",
       "      <th>395</th>\n",
       "      <td>82.39</td>\n",
       "      <td>82.694038</td>\n",
       "    </tr>\n",
       "    <tr>\n",
       "      <th>396</th>\n",
       "      <td>82.89</td>\n",
       "      <td>82.377693</td>\n",
       "    </tr>\n",
       "    <tr>\n",
       "      <th>...</th>\n",
       "      <td>...</td>\n",
       "      <td>...</td>\n",
       "    </tr>\n",
       "    <tr>\n",
       "      <th>468</th>\n",
       "      <td>79.88</td>\n",
       "      <td>79.000824</td>\n",
       "    </tr>\n",
       "    <tr>\n",
       "      <th>469</th>\n",
       "      <td>80.32</td>\n",
       "      <td>79.350121</td>\n",
       "    </tr>\n",
       "    <tr>\n",
       "      <th>470</th>\n",
       "      <td>81.40</td>\n",
       "      <td>79.875824</td>\n",
       "    </tr>\n",
       "    <tr>\n",
       "      <th>471</th>\n",
       "      <td>81.22</td>\n",
       "      <td>80.744591</td>\n",
       "    </tr>\n",
       "    <tr>\n",
       "      <th>472</th>\n",
       "      <td>80.97</td>\n",
       "      <td>81.276100</td>\n",
       "    </tr>\n",
       "  </tbody>\n",
       "</table>\n",
       "<p>81 rows × 2 columns</p>\n",
       "</div>"
      ],
      "text/plain": [
       "     Close    predict\n",
       "392  83.23  82.741882\n",
       "393  82.90  83.027023\n",
       "394  82.46  83.022690\n",
       "395  82.39  82.694038\n",
       "396  82.89  82.377693\n",
       "..     ...        ...\n",
       "468  79.88  79.000824\n",
       "469  80.32  79.350121\n",
       "470  81.40  79.875824\n",
       "471  81.22  80.744591\n",
       "472  80.97  81.276100\n",
       "\n",
       "[81 rows x 2 columns]"
      ]
     },
     "execution_count": 28,
     "metadata": {},
     "output_type": "execute_result"
    }
   ],
   "source": [
    "Y_test"
   ]
  },
  {
   "cell_type": "code",
   "execution_count": 30,
   "metadata": {},
   "outputs": [],
   "source": [
    "def get_mape(y_true, y_pred): \n",
    "        \"\"\"\n",
    "        Compute mean absolute percentage error (MAPE)\n",
    "        \"\"\"\n",
    "        y_true, y_pred = np.array(y_true), np.array(y_pred)\n",
    "        return np.mean(np.abs((y_true - y_pred) / y_true)) * 100\n"
   ]
  },
  {
   "cell_type": "code",
   "execution_count": 31,
   "metadata": {},
   "outputs": [
    {
     "name": "stdout",
     "output_type": "stream",
     "text": [
      "R2 -  0.87\n",
      "MAPE -  3.24\n",
      "RMSE - 0.84\n",
      "MAE -  0.67\n"
     ]
    }
   ],
   "source": [
    "print('R2 - ',round(metrics.r2_score(Y_test.Close,closing_price),2))\n",
    "print('MAPE - ', round(get_mape(Y_test.Close,closing_price), 2))\n",
    "print('RMSE -', round(np.sqrt(metrics.mean_squared_error(Y_test.Close,closing_price)),2))\n",
    "print('MAE - ', round(metrics.mean_absolute_error(Y_test.Close,closing_price),2))\n"
   ]
  },
  {
   "cell_type": "code",
   "execution_count": 22,
   "metadata": {},
   "outputs": [
    {
     "data": {
      "text/plain": [
       "[<matplotlib.lines.Line2D at 0x2479bbd2d68>,\n",
       " <matplotlib.lines.Line2D at 0x2479bbd2eb8>]"
      ]
     },
     "execution_count": 22,
     "metadata": {},
     "output_type": "execute_result"
    },
    {
     "data": {
      "image/png": "[encoded data removed]",
      "text/plain": [
       "<Figure size 432x288 with 1 Axes>"
      ]
     },
     "metadata": {
      "needs_background": "light"
     },
     "output_type": "display_data"
    }
   ],
   "source": [
    "#for plotting\n",
    "test_result=Y_test\n",
    "test_result['predict']=closing_price\n",
    "plt.plot(train['Close'])\n",
    "plt.plot(test_result[['Close','predict']])"
   ]
  },
  {
   "cell_type": "markdown",
   "metadata": {},
   "source": [
    "### License\n",
    "MIT License\n",
    "\n",
    "Copyright (c) 2022 Israel Bassey\n",
    "\n",
    "Permission is hereby granted, free of charge, to any person obtaining a copy of this software and associated documentation files (the \"Software\"), to deal in the Software without restriction, including without limitation the rights to use, copy, modify, merge, publish, distribute, sublicense, and/or sell copies of the Software, and to permit persons to whom the Software is furnished to do so, subject to the following conditions:\n",
    "\n",
    "The above copyright notice and this permission notice shall be included in all copies or substantial portions of the Software.\n",
    "\n",
    "THE SOFTWARE IS PROVIDED \"AS IS\", WITHOUT WARRANTY OF ANY KIND, EXPRESS OR IMPLIED, INCLUDING BUT NOT LIMITED TO THE WARRANTIES OF MERCHANTABILITY, FITNESS FOR A PARTICULAR PURPOSE AND NONINFRINGEMENT. IN NO EVENT SHALL THE AUTHORS OR COPYRIGHT HOLDERS BE LIABLE FOR ANY CLAIM, DAMAGES OR OTHER LIABILITY, WHETHER IN AN ACTION OF CONTRACT, TORT OR OTHERWISE, ARISING FROM, OUT OF OR IN CONNECTION WITH THE SOFTWARE OR THE USE OR OTHER DEALINGS IN THE SOFTWARE.\n"
   ]
  }
 ],
 "metadata": {
  "kernelspec": {
   "display_name": "Python 3.10.6 64-bit",
   "language": "python",
   "name": "python3"
  },
  "language_info": {
   "codemirror_mode": {
    "name": "ipython",
    "version": 3
   },
   "file_extension": ".py",
   "mimetype": "text/x-python",
   "name": "python",
   "nbconvert_exporter": "python",
   "pygments_lexer": "ipython3",
   "version": "3.10.6"
  },
  "vscode": {
   "interpreter": {
    "hash": "38f530054430063d0162e2c853e2373597aa4786130927fb5f9e69ac5b1028ae"
   }
  }
 },
 "nbformat": 4,
 "nbformat_minor": 2
}
